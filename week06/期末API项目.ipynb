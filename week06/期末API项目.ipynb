{
 "cells": [
  {
   "cell_type": "markdown",
   "metadata": {},
   "source": [
    "# 关于高德地图天气查询API的调用\n"
   ]
  },
  {
   "cell_type": "code",
   "execution_count": 1,
   "metadata": {},
   "outputs": [],
   "source": [
    "import pandas as pd\n",
    "import requests\n",
    "from pandas.io.json import json_normalize\n",
    "key_peng =\"96b267374a02ffa474503092d0b3eb4d\"# 改为本人获取的key"
   ]
  },
  {
   "cell_type": "code",
   "execution_count": 40,
   "metadata": {},
   "outputs": [
    {
     "data": {
      "text/plain": [
       "{'status': '1',\n",
       " 'count': '1',\n",
       " 'info': 'OK',\n",
       " 'infocode': '10000',\n",
       " 'lives': [{'province': '湖南',\n",
       "   'city': '长沙市',\n",
       "   'adcode': '430100',\n",
       "   'weather': '多云',\n",
       "   'temperature': '35',\n",
       "   'winddirection': '南',\n",
       "   'windpower': '4',\n",
       "   'humidity': '52',\n",
       "   'reporttime': '2020-07-17 14:24:30'}]}"
      ]
     },
     "execution_count": 40,
     "metadata": {},
     "output_type": "execute_result"
    }
   ],
   "source": [
    "#封装名为weatherInfo的函数\n",
    "def weatherInfo(city,extensions='base')->dict:\n",
    "    url = \"https://restapi.amap.com/v3/weather/weatherInfo?parameters\"\n",
    "    params={\n",
    "        \"key\":key_peng,\n",
    "        \"city\":city,\n",
    "        \"extensions\":extensions,\n",
    "        \"output\":\"json\"    \n",
    "    }\n",
    "    response = requests.get(url,params=params)\n",
    "    data = response.json()\n",
    "    return data\n",
    "    \n",
    "长沙_天气_实况 =  weatherInfo(city='长沙市',extensions='base')\n",
    "长沙_天气_实况"
   ]
  },
  {
   "cell_type": "code",
   "execution_count": 42,
   "metadata": {},
   "outputs": [
    {
     "data": {
      "text/html": [
       "<div>\n",
       "<style scoped>\n",
       "    .dataframe tbody tr th:only-of-type {\n",
       "        vertical-align: middle;\n",
       "    }\n",
       "\n",
       "    .dataframe tbody tr th {\n",
       "        vertical-align: top;\n",
       "    }\n",
       "\n",
       "    .dataframe thead th {\n",
       "        text-align: right;\n",
       "    }\n",
       "</style>\n",
       "<table border=\"1\" class=\"dataframe\">\n",
       "  <thead>\n",
       "    <tr style=\"text-align: right;\">\n",
       "      <th></th>\n",
       "      <th>province</th>\n",
       "      <th>city</th>\n",
       "      <th>adcode</th>\n",
       "      <th>weather</th>\n",
       "      <th>temperature</th>\n",
       "      <th>winddirection</th>\n",
       "      <th>windpower</th>\n",
       "      <th>humidity</th>\n",
       "      <th>reporttime</th>\n",
       "    </tr>\n",
       "  </thead>\n",
       "  <tbody>\n",
       "    <tr>\n",
       "      <th>0</th>\n",
       "      <td>湖南</td>\n",
       "      <td>长沙市</td>\n",
       "      <td>430100</td>\n",
       "      <td>多云</td>\n",
       "      <td>35</td>\n",
       "      <td>南</td>\n",
       "      <td>4</td>\n",
       "      <td>52</td>\n",
       "      <td>2020-07-17 14:24:30</td>\n",
       "    </tr>\n",
       "  </tbody>\n",
       "</table>\n",
       "</div>"
      ],
      "text/plain": [
       "  province city  adcode weather temperature winddirection windpower humidity  \\\n",
       "0       湖南  长沙市  430100      多云          35             南         4       52   \n",
       "\n",
       "            reporttime  \n",
       "0  2020-07-17 14:24:30  "
      ]
     },
     "execution_count": 42,
     "metadata": {},
     "output_type": "execute_result"
    }
   ],
   "source": [
    "df_长沙_天气_实况 = pd.json_normalize(长沙_天气_实况['lives'])\n",
    "df_长沙_天气_实况"
   ]
  },
  {
   "cell_type": "markdown",
   "metadata": {},
   "source": [
    "# 关于高德地图路径规划API的调用\n",
    "\n",
    "## 步行路径规划"
   ]
  },
  {
   "cell_type": "code",
   "execution_count": 12,
   "metadata": {},
   "outputs": [],
   "source": [
    "# 封装名为walking的函数\n",
    "def walking(origin,destination,sig=None)->dict:\n",
    "    url = 'https://restapi.amap.com/v3/direction/walking?parameters'\n",
    "    params={\n",
    "        'key':key_peng,\n",
    "        'origin':origin,\n",
    "        'destination':destination,\n",
    "        'output':'json'\n",
    "    }\n",
    "    response = requests.get(url,params=params)\n",
    "    data = response.json()\n",
    "    return data"
   ]
  },
  {
   "cell_type": "code",
   "execution_count": 9,
   "metadata": {},
   "outputs": [
    {
     "name": "stdout",
     "output_type": "stream",
     "text": [
      "{'status': '1', 'info': 'OK', 'infocode': '10000', 'count': '1', 'geocodes': [{'formatted_address': '湖南省长沙市岳麓区爱晚亭', 'country': '中国', 'province': '湖南省', 'citycode': '0731', 'city': '长沙市', 'district': '岳麓区', 'township': [], 'neighborhood': {'name': [], 'type': []}, 'building': {'name': [], 'type': []}, 'adcode': '430104', 'street': [], 'number': [], 'location': '112.938016,28.180382', 'level': '兴趣点'}]}\n",
      "{'status': '1', 'info': 'OK', 'infocode': '10000', 'count': '1', 'geocodes': [{'formatted_address': '湖南省长沙市岳麓区岳麓书院', 'country': '中国', 'province': '湖南省', 'citycode': '0731', 'city': '长沙市', 'district': '岳麓区', 'township': [], 'neighborhood': {'name': [], 'type': []}, 'building': {'name': [], 'type': []}, 'adcode': '430104', 'street': [], 'number': [], 'location': '112.955295,28.193112', 'level': '兴趣点'}]}\n"
     ]
    }
   ],
   "source": [
    "def geocode(address,city=None,batch=True,sig=None)->dict:#将bath=True可以获取十个以下的地理编码\n",
    "    \"\"\"获取地理编码\"\"\"\n",
    "    url = 'https://restapi.amap.com/v3/geocode/geo?parameters'\n",
    "    params={\n",
    "        'key': key_peng,\n",
    "        'address':address,\n",
    "        'city':city,\n",
    "        'batch':batch,#batch 参数设置为 true 时进行批量查询操作\n",
    "        'sig':sig,\n",
    "        'output':'json'\n",
    "    }\n",
    "    response = requests.get(url,params=params)\n",
    "    data = response.json()\n",
    "    return data\n",
    "#中大南方 = geocode(address='广东省广州市中山大学南方学院')\n",
    "#print(中大南方)\n",
    "#df_中大南方地理编码 = pd.json_normalize(中大南方['geocodes'])\n",
    "#display(df_中大南方地理编码)\n",
    "#中大南方地理编码 = 中大南方['geocodes'][0]['location']\n",
    "#print(\"中大南方地理编码:\",中大南方地理编码)\n",
    "\n",
    "\n",
    "湖南省长沙市爱晚亭 = geocode(address='湖南省长沙市爱晚亭')\n",
    "print(湖南省长沙市爱晚亭)\n",
    "湖南省长沙市岳麓书院 = geocode(address='湖南省长沙市岳麓书院')\n",
    "print(湖南省长沙市岳麓书院)"
   ]
  },
  {
   "cell_type": "code",
   "execution_count": 10,
   "metadata": {},
   "outputs": [
    {
     "name": "stdout",
     "output_type": "stream",
     "text": [
      "(起点)爱晚亭location: 112.938016,28.180382 (终点)岳麓书院_location 112.955295,28.193112\n"
     ]
    }
   ],
   "source": [
    "# B-2 准备walking 参数\n",
    "\n",
    "爱晚亭_location = 湖南省长沙市爱晚亭['geocodes'][0]['location']\n",
    "岳麓书院_location = 湖南省长沙市岳麓书院['geocodes'][0]['location']\n",
    "print(\"(起点)爱晚亭location:\",爱晚亭_location,\"(终点)岳麓书院_location\",岳麓书院_location)\n"
   ]
  },
  {
   "cell_type": "code",
   "execution_count": 13,
   "metadata": {},
   "outputs": [
    {
     "data": {
      "text/html": [
       "<div>\n",
       "<style scoped>\n",
       "    .dataframe tbody tr th:only-of-type {\n",
       "        vertical-align: middle;\n",
       "    }\n",
       "\n",
       "    .dataframe tbody tr th {\n",
       "        vertical-align: top;\n",
       "    }\n",
       "\n",
       "    .dataframe thead th {\n",
       "        text-align: right;\n",
       "    }\n",
       "</style>\n",
       "<table border=\"1\" class=\"dataframe\">\n",
       "  <thead>\n",
       "    <tr style=\"text-align: right;\">\n",
       "      <th></th>\n",
       "      <th>instruction</th>\n",
       "      <th>orientation</th>\n",
       "      <th>road</th>\n",
       "      <th>distance</th>\n",
       "      <th>duration</th>\n",
       "      <th>polyline</th>\n",
       "      <th>action</th>\n",
       "      <th>assistant_action</th>\n",
       "      <th>walk_type</th>\n",
       "    </tr>\n",
       "  </thead>\n",
       "  <tbody>\n",
       "    <tr>\n",
       "      <th>0</th>\n",
       "      <td>步行116米左转</td>\n",
       "      <td>[]</td>\n",
       "      <td>[]</td>\n",
       "      <td>116</td>\n",
       "      <td>93</td>\n",
       "      <td>112.937986,28.180417;112.938147,28.180503;112....</td>\n",
       "      <td>左转</td>\n",
       "      <td>[]</td>\n",
       "      <td>0</td>\n",
       "    </tr>\n",
       "    <tr>\n",
       "      <th>1</th>\n",
       "      <td>沿登高路向西北步行29米右转</td>\n",
       "      <td>西北</td>\n",
       "      <td>登高路</td>\n",
       "      <td>29</td>\n",
       "      <td>23</td>\n",
       "      <td>112.939115,28.180486;112.938997,28.180694;112....</td>\n",
       "      <td>右转</td>\n",
       "      <td>[]</td>\n",
       "      <td>0</td>\n",
       "    </tr>\n",
       "    <tr>\n",
       "      <th>2</th>\n",
       "      <td>步行242米右转</td>\n",
       "      <td>[]</td>\n",
       "      <td>[]</td>\n",
       "      <td>242</td>\n",
       "      <td>194</td>\n",
       "      <td>112.938971,28.180734;112.9399,28.180734;112.94...</td>\n",
       "      <td>右转</td>\n",
       "      <td>[]</td>\n",
       "      <td>0</td>\n",
       "    </tr>\n",
       "    <tr>\n",
       "      <th>3</th>\n",
       "      <td>向东步行117米向右前方行走</td>\n",
       "      <td>东</td>\n",
       "      <td>[]</td>\n",
       "      <td>117</td>\n",
       "      <td>94</td>\n",
       "      <td>112.940755,28.181706;112.940868,28.181784;112....</td>\n",
       "      <td>向右前方行走</td>\n",
       "      <td>[]</td>\n",
       "      <td>0</td>\n",
       "    </tr>\n",
       "    <tr>\n",
       "      <th>4</th>\n",
       "      <td>向南步行40米向右前方行走</td>\n",
       "      <td>南</td>\n",
       "      <td>[]</td>\n",
       "      <td>40</td>\n",
       "      <td>32</td>\n",
       "      <td>112.941823,28.181766;112.941853,28.181471;112....</td>\n",
       "      <td>向右前方行走</td>\n",
       "      <td>[]</td>\n",
       "      <td>0</td>\n",
       "    </tr>\n",
       "    <tr>\n",
       "      <th>5</th>\n",
       "      <td>向南步行101米左转</td>\n",
       "      <td>南</td>\n",
       "      <td>[]</td>\n",
       "      <td>101</td>\n",
       "      <td>81</td>\n",
       "      <td>112.941845,28.181402;112.941615,28.181128;112....</td>\n",
       "      <td>左转</td>\n",
       "      <td>[]</td>\n",
       "      <td>0</td>\n",
       "    </tr>\n",
       "    <tr>\n",
       "      <th>6</th>\n",
       "      <td>向东步行467米左转</td>\n",
       "      <td>东</td>\n",
       "      <td>[]</td>\n",
       "      <td>467</td>\n",
       "      <td>374</td>\n",
       "      <td>112.942062,28.18079;112.942096,28.180825;112.9...</td>\n",
       "      <td>左转</td>\n",
       "      <td>[]</td>\n",
       "      <td>0</td>\n",
       "    </tr>\n",
       "    <tr>\n",
       "      <th>7</th>\n",
       "      <td>沿麓山路向东北步行349米右转</td>\n",
       "      <td>东北</td>\n",
       "      <td>麓山路</td>\n",
       "      <td>349</td>\n",
       "      <td>279</td>\n",
       "      <td>112.946797,28.181198;112.946797,28.181515;112....</td>\n",
       "      <td>右转</td>\n",
       "      <td>[]</td>\n",
       "      <td>0</td>\n",
       "    </tr>\n",
       "    <tr>\n",
       "      <th>8</th>\n",
       "      <td>沿桃子湖路向东步行482米左转</td>\n",
       "      <td>东</td>\n",
       "      <td>桃子湖路</td>\n",
       "      <td>482</td>\n",
       "      <td>386</td>\n",
       "      <td>112.948242,28.18401;112.949583,28.184071;112.9...</td>\n",
       "      <td>左转</td>\n",
       "      <td>[]</td>\n",
       "      <td>0</td>\n",
       "    </tr>\n",
       "    <tr>\n",
       "      <th>9</th>\n",
       "      <td>沿学堂坡路向北步行566米直行</td>\n",
       "      <td>北</td>\n",
       "      <td>学堂坡路</td>\n",
       "      <td>566</td>\n",
       "      <td>453</td>\n",
       "      <td>112.953099,28.183433;112.953108,28.183481;112....</td>\n",
       "      <td>直行</td>\n",
       "      <td>[]</td>\n",
       "      <td>0</td>\n",
       "    </tr>\n",
       "    <tr>\n",
       "      <th>10</th>\n",
       "      <td>沿爱民路向北步行512米到达目的地</td>\n",
       "      <td>北</td>\n",
       "      <td>爱民路</td>\n",
       "      <td>512</td>\n",
       "      <td>410</td>\n",
       "      <td>112.954093,28.188546;112.954132,28.188759;112....</td>\n",
       "      <td>[]</td>\n",
       "      <td>到达目的地</td>\n",
       "      <td>0</td>\n",
       "    </tr>\n",
       "  </tbody>\n",
       "</table>\n",
       "</div>"
      ],
      "text/plain": [
       "          instruction orientation  road distance duration  \\\n",
       "0            步行116米左转          []    []      116       93   \n",
       "1      沿登高路向西北步行29米右转          西北   登高路       29       23   \n",
       "2            步行242米右转          []    []      242      194   \n",
       "3      向东步行117米向右前方行走           东    []      117       94   \n",
       "4       向南步行40米向右前方行走           南    []       40       32   \n",
       "5          向南步行101米左转           南    []      101       81   \n",
       "6          向东步行467米左转           东    []      467      374   \n",
       "7     沿麓山路向东北步行349米右转          东北   麓山路      349      279   \n",
       "8     沿桃子湖路向东步行482米左转           东  桃子湖路      482      386   \n",
       "9     沿学堂坡路向北步行566米直行           北  学堂坡路      566      453   \n",
       "10  沿爱民路向北步行512米到达目的地           北   爱民路      512      410   \n",
       "\n",
       "                                             polyline  action  \\\n",
       "0   112.937986,28.180417;112.938147,28.180503;112....      左转   \n",
       "1   112.939115,28.180486;112.938997,28.180694;112....      右转   \n",
       "2   112.938971,28.180734;112.9399,28.180734;112.94...      右转   \n",
       "3   112.940755,28.181706;112.940868,28.181784;112....  向右前方行走   \n",
       "4   112.941823,28.181766;112.941853,28.181471;112....  向右前方行走   \n",
       "5   112.941845,28.181402;112.941615,28.181128;112....      左转   \n",
       "6   112.942062,28.18079;112.942096,28.180825;112.9...      左转   \n",
       "7   112.946797,28.181198;112.946797,28.181515;112....      右转   \n",
       "8   112.948242,28.18401;112.949583,28.184071;112.9...      左转   \n",
       "9   112.953099,28.183433;112.953108,28.183481;112....      直行   \n",
       "10  112.954093,28.188546;112.954132,28.188759;112....      []   \n",
       "\n",
       "   assistant_action walk_type  \n",
       "0                []         0  \n",
       "1                []         0  \n",
       "2                []         0  \n",
       "3                []         0  \n",
       "4                []         0  \n",
       "5                []         0  \n",
       "6                []         0  \n",
       "7                []         0  \n",
       "8                []         0  \n",
       "9                []         0  \n",
       "10            到达目的地         0  "
      ]
     },
     "metadata": {},
     "output_type": "display_data"
    },
    {
     "data": {
      "text/plain": [
       "0              步行116米左转\n",
       "1        沿登高路向西北步行29米右转\n",
       "2              步行242米右转\n",
       "3        向东步行117米向右前方行走\n",
       "4         向南步行40米向右前方行走\n",
       "5            向南步行101米左转\n",
       "6            向东步行467米左转\n",
       "7       沿麓山路向东北步行349米右转\n",
       "8       沿桃子湖路向东步行482米左转\n",
       "9       沿学堂坡路向北步行566米直行\n",
       "10    沿爱民路向北步行512米到达目的地\n",
       "Name: instruction, dtype: object"
      ]
     },
     "execution_count": 13,
     "metadata": {},
     "output_type": "execute_result"
    }
   ],
   "source": [
    "爱晚亭_岳麓书院 = walking(爱晚亭_location,岳麓书院_location)\n",
    "df_步行路径规划 = pd.json_normalize(爱晚亭_岳麓书院[\"route\"][\"paths\"][0]['steps'])\n",
    "display(df_步行路径规划)\n",
    "df_步行路径规划[\"instruction\"]"
   ]
  },
  {
   "cell_type": "markdown",
   "metadata": {},
   "source": [
    "## 公车路径规划"
   ]
  },
  {
   "cell_type": "code",
   "execution_count": 14,
   "metadata": {},
   "outputs": [
    {
     "name": "stdout",
     "output_type": "stream",
     "text": [
      "(起点)岳麓书院_location: 112.955295,28.193112 (终点)橘子洲头_location: 112.961777,28.193799\n"
     ]
    }
   ],
   "source": [
    "def integrated(origin,destination,city,cityd=None,extensions='all',strategy=0,nightflag=1,date=None,time=None,sig=None)->dict:   \n",
    "    url = 'https://restapi.amap.com/v3/direction/transit/integrated?parameters'\n",
    "    params={\n",
    "        'key':key_peng,\n",
    "        'origin':origin,\n",
    "        'destination':destination,\n",
    "        'city':city,\n",
    "        'cityd':cityd,\n",
    "        'extensions':extensions,\n",
    "        'strategy':strategy,\n",
    "        'nightflag':nightflag,\n",
    "        'date':date,\n",
    "        'output':'json'\n",
    "    }\n",
    "    response = requests.get(url,params=params)\n",
    "    data = response.json()\n",
    "    return data\n",
    "\n",
    "\n",
    "\n",
    "橘子洲头 = geocode('湖南省长沙市橘子洲头')\n",
    "橘子洲头_location = 橘子洲头['geocodes'][0]['location']\n",
    "print(\"(起点)岳麓书院_location:\",岳麓书院_location,\"(终点)橘子洲头_location:\",橘子洲头_location)"
   ]
  },
  {
   "cell_type": "code",
   "execution_count": 16,
   "metadata": {},
   "outputs": [
    {
     "data": {
      "text/html": [
       "<div>\n",
       "<style scoped>\n",
       "    .dataframe tbody tr th:only-of-type {\n",
       "        vertical-align: middle;\n",
       "    }\n",
       "\n",
       "    .dataframe tbody tr th {\n",
       "        vertical-align: top;\n",
       "    }\n",
       "\n",
       "    .dataframe thead th {\n",
       "        text-align: right;\n",
       "    }\n",
       "</style>\n",
       "<table border=\"1\" class=\"dataframe\">\n",
       "  <thead>\n",
       "    <tr style=\"text-align: right;\">\n",
       "      <th></th>\n",
       "      <th>status</th>\n",
       "      <th>info</th>\n",
       "      <th>infocode</th>\n",
       "      <th>count</th>\n",
       "      <th>route.origin</th>\n",
       "      <th>route.destination</th>\n",
       "      <th>route.distance</th>\n",
       "      <th>route.taxi_cost</th>\n",
       "      <th>route.transits</th>\n",
       "    </tr>\n",
       "  </thead>\n",
       "  <tbody>\n",
       "    <tr>\n",
       "      <th>0</th>\n",
       "      <td>1</td>\n",
       "      <td>OK</td>\n",
       "      <td>10000</td>\n",
       "      <td>1</td>\n",
       "      <td>112.955295,28.193112</td>\n",
       "      <td>112.961777,28.193799</td>\n",
       "      <td>676</td>\n",
       "      <td>8.0</td>\n",
       "      <td>[{'cost': '2.0', 'duration': '1326', 'nightfla...</td>\n",
       "    </tr>\n",
       "  </tbody>\n",
       "</table>\n",
       "</div>"
      ],
      "text/plain": [
       "  status info infocode count          route.origin     route.destination  \\\n",
       "0      1   OK    10000     1  112.955295,28.193112  112.961777,28.193799   \n",
       "\n",
       "  route.distance route.taxi_cost  \\\n",
       "0            676             8.0   \n",
       "\n",
       "                                      route.transits  \n",
       "0  [{'cost': '2.0', 'duration': '1326', 'nightfla...  "
      ]
     },
     "execution_count": 16,
     "metadata": {},
     "output_type": "execute_result"
    }
   ],
   "source": [
    "岳麓书院_橘子洲头 = integrated(岳麓书院_location,橘子洲头_location,city='长沙市',extensions='all',strategy=0,nightflag=1)\n",
    "df_bus = pd.json_normalize(岳麓书院_橘子洲头)\n",
    "df_bus"
   ]
  },
  {
   "cell_type": "code",
   "execution_count": null,
   "metadata": {},
   "outputs": [],
   "source": []
  },
  {
   "cell_type": "code",
   "execution_count": 44,
   "metadata": {},
   "outputs": [
    {
     "data": {
      "text/html": [
       "<div>\n",
       "<style scoped>\n",
       "    .dataframe tbody tr th:only-of-type {\n",
       "        vertical-align: middle;\n",
       "    }\n",
       "\n",
       "    .dataframe tbody tr th {\n",
       "        vertical-align: top;\n",
       "    }\n",
       "\n",
       "    .dataframe thead th {\n",
       "        text-align: right;\n",
       "    }\n",
       "</style>\n",
       "<table border=\"1\" class=\"dataframe\">\n",
       "  <thead>\n",
       "    <tr style=\"text-align: right;\">\n",
       "      <th></th>\n",
       "      <th>name</th>\n",
       "      <th>id</th>\n",
       "      <th>type</th>\n",
       "      <th>distance</th>\n",
       "      <th>duration</th>\n",
       "      <th>polyline</th>\n",
       "      <th>bustimetag</th>\n",
       "      <th>start_time</th>\n",
       "      <th>end_time</th>\n",
       "      <th>via_num</th>\n",
       "      <th>via_stops</th>\n",
       "      <th>departure_stop.name</th>\n",
       "      <th>departure_stop.id</th>\n",
       "      <th>departure_stop.location</th>\n",
       "      <th>arrival_stop.name</th>\n",
       "      <th>arrival_stop.id</th>\n",
       "      <th>arrival_stop.location</th>\n",
       "    </tr>\n",
       "  </thead>\n",
       "  <tbody>\n",
       "    <tr>\n",
       "      <th>0</th>\n",
       "      <td>地铁2号线(梅溪湖西--光达)</td>\n",
       "      <td>430100020927</td>\n",
       "      <td>地铁线路</td>\n",
       "      <td>1137</td>\n",
       "      <td>294</td>\n",
       "      <td>112.951436,28.197614;112.951978,28.197072;112....</td>\n",
       "      <td>0</td>\n",
       "      <td>0630</td>\n",
       "      <td>2300</td>\n",
       "      <td>0</td>\n",
       "      <td>[]</td>\n",
       "      <td>溁湾镇</td>\n",
       "      <td>430100020927005</td>\n",
       "      <td>112.951436,28.197614</td>\n",
       "      <td>橘子洲</td>\n",
       "      <td>430100020927006</td>\n",
       "      <td>112.962520,28.195601</td>\n",
       "    </tr>\n",
       "  </tbody>\n",
       "</table>\n",
       "</div>"
      ],
      "text/plain": [
       "              name            id  type distance duration  \\\n",
       "0  地铁2号线(梅溪湖西--光达)  430100020927  地铁线路     1137      294   \n",
       "\n",
       "                                            polyline bustimetag start_time  \\\n",
       "0  112.951436,28.197614;112.951978,28.197072;112....          0       0630   \n",
       "\n",
       "  end_time via_num via_stops departure_stop.name departure_stop.id  \\\n",
       "0     2300       0        []                 溁湾镇   430100020927005   \n",
       "\n",
       "  departure_stop.location arrival_stop.name  arrival_stop.id  \\\n",
       "0    112.951436,28.197614               橘子洲  430100020927006   \n",
       "\n",
       "  arrival_stop.location  \n",
       "0  112.962520,28.195601  "
      ]
     },
     "execution_count": 44,
     "metadata": {},
     "output_type": "execute_result"
    }
   ],
   "source": [
    "\n",
    "df_bus_岳麓书院_橘子洲头 = pd.json_normalize(岳麓书院_橘子洲头[\"route\"]['transits'][0]['segments'][0]['bus'][\"buslines\"])\n",
    "df_bus_岳麓书院_橘子洲头\n"
   ]
  },
  {
   "cell_type": "code",
   "execution_count": 45,
   "metadata": {},
   "outputs": [
    {
     "data": {
      "text/plain": [
       "0    地铁2号线(梅溪湖西--光达)\n",
       "Name: name, dtype: object"
      ]
     },
     "execution_count": 45,
     "metadata": {},
     "output_type": "execute_result"
    }
   ],
   "source": [
    "df_bus_岳麓书院_橘子洲头['name']"
   ]
  },
  {
   "cell_type": "markdown",
   "metadata": {},
   "source": [
    "# 关于百度通用物体和场景识别API调用"
   ]
  },
  {
   "cell_type": "code",
   "execution_count": 28,
   "metadata": {},
   "outputs": [
    {
     "name": "stdout",
     "output_type": "stream",
     "text": [
      "{'log_id': 6039405127180011025, 'result_num': 5, 'result': [{'score': 0.888021, 'root': '', 'keyword': '岳麓书院'}, {'score': 0.690529, 'root': '建筑-传统建筑', 'keyword': '寺塔'}, {'score': 0.505357, 'root': '建筑-传统建筑', 'keyword': '中式传统建筑'}, {'score': 0.327303, 'root': '建筑-现代建筑', 'keyword': '沿街店面'}, {'score': 0.133775, 'root': '建筑-传统建筑', 'keyword': '古建筑'}]}\n"
     ]
    }
   ],
   "source": [
    "   '''\n",
    "import requests\n",
    "import base64\n",
    "\n",
    "'''\n",
    "通用物体和场景识别\n",
    "'''\n",
    "\n",
    "request_url = \"https://aip.baidubce.com/rest/2.0/image-classify/v2/advanced_general\"\n",
    "# 二进制方式打开图片文件\n",
    "f = open('G:\\\\API\\\\岳麓书院01.jpg', 'rb')\n",
    "img = base64.b64encode(f.read())\n",
    "baike_num = base64.b64encode(f.read())\n",
    "params = {\"image\":img,\"baike_num\":baike_num}\n",
    "access_token = '[24.88144b66f0e5c48842744b2e9959cfe3.2592000.1597557494.282335-21437406]'\n",
    "request_url = request_url + \"?access_token=\" + access_token\n",
    "headers = {'content-type': 'application/x-www-form-urlencoded'}\n",
    "response = requests.post(request_url, data=params, headers=headers)\n",
    "if response:\n",
    "    print (response.json())\n",
    "    '''    "
   ]
  },
  {
   "cell_type": "code",
   "execution_count": 21,
   "metadata": {},
   "outputs": [
    {
     "name": "stdout",
     "output_type": "stream",
     "text": [
      "{'refresh_token': '25.2e31fc867ee715825cde1d1297a7fafa.315360000.1910325494.282335-21437406', 'expires_in': 2592000, 'session_key': '9mzdA5KIONIgLywK1nj7+K8EvhbPpZMzipKzMmbMuEu/UcNq1yHXYnblKOGi0z7KZsZ/uNpPzA0TY/ok2oEvQgWwa6nuzg==', 'access_token': '24.88144b66f0e5c48842744b2e9959cfe3.2592000.1597557494.282335-21437406', 'scope': 'public vis-classify_dishes vis-classify_car brain_all_scope vis-classify_animal vis-classify_plant brain_object_detect brain_realtime_logo brain_dish_detect brain_car_detect brain_animal_classify brain_plant_classify brain_ingredient brain_advanced_general_classify brain_custom_dish brain_poi_recognize brain_vehicle_detect brain_redwine brain_currency brain_vehicle_damage wise_adapt lebo_resource_base lightservice_public hetu_basic lightcms_map_poi kaidian_kaidian ApsMisTest_Test权限 vis-classify_flower lpq_开放 cop_helloScope ApsMis_fangdi_permission smartapp_snsapi_base iop_autocar oauth_tp_app smartapp_smart_game_openapi oauth_sessionkey smartapp_swanid_verify smartapp_opensource_openapi smartapp_opensource_recapi fake_face_detect_开放Scope vis-ocr_虚拟人物助理 idl-video_虚拟人物助理', 'session_secret': '655f7c25965c515b4fa30ff8a6a0cb62'}\n"
     ]
    }
   ],
   "source": [
    "# encoding:utf-8\n",
    "import requests \n",
    "\n",
    "# client_id 为官网获取的AK， client_secret 为官网获取的SK\n",
    "host = 'https://aip.baidubce.com/oauth/2.0/token?grant_type=client_credentials&client_id=7H0ALlGvd9kfLQVtqQwX6isc&client_secret=Lp0iIIa8nMk4pDPqHcZLOKB981CuukIR'\n",
    "response = requests.get(host)\n",
    "if response:\n",
    "    print(response.json())"
   ]
  },
  {
   "cell_type": "code",
   "execution_count": 34,
   "metadata": {},
   "outputs": [
    {
     "name": "stdout",
     "output_type": "stream",
     "text": [
      "名称: 岳麓书院\n",
      "可能性: 0.888021\n",
      "百科描述: 岳麓书院是中国历史上赫赫闻名的四大书院之一，坐落于中国历史文化名城湖南长沙湘江西岸的岳麓山脚下，作为世界上最古老的学府之一，其古代传统的书院建筑至今被完整保存，每一组院落、每一块石碑、每一枚砖瓦、每一支风荷，都闪烁着时光淬炼的人文精神。1988年，岳麓书院建筑群被国务院批准为第三批全国重点文物保护单位。岳麓书院历经千年而弦歌不绝，学脉延绵。北宋开宝九年(公元976年)，潭州太守朱洞在僧人办学的基础上，由官府捐资兴建，正式创立岳麓书院。北宋祥符八年(公元1015年)，宋真宗召见岳麓山长周式，御笔赐书“岳麓书院”四字门额。嗣后，历经南宋、元、明、清各代，至清末光绪廿九年(公元1903年)，岳麓书院与湖南省城大学堂合并改制为湖南高等学堂，沿用书院旧址。中华民国15年(公元1926年)，湖南高等学堂正式定名湖南大学，仍就书院基址扩建至今。1986年湖南大学宣布完成修复岳麓书院，并正式对外开放。2005年湖南大学正式恢复岳麓书院，下设中国哲学研究所、历史研究所、中国思想文化研究所、中国书院研究中心和中国软实力文化研究中心等多个部门。2009年岳麓书院学科从本科、硕士研究生、博士研究生到博士后科研流动站的格局已经完备。正式成为为湖南大学的实体办学机构和科研基地，千年学脉再次延绵，千年学府再添光辉。今天的岳麓书院不仅是湖南大学的文史哲人才培养和研究基地，湖南省旅游胜地，更是是整个长沙市的文化窗口和文化名片。\n",
      "百科链接: http://baike.baidu.com/item/%E5%B2%B3%E9%BA%93%E4%B9%A6%E9%99%A2/206944\n",
      "百科图片: https://bkimg.cdn.bcebos.com/pic/fcfaaf51f3deb48fd3d7b926f61f3a292cf5788f\n"
     ]
    }
   ],
   "source": [
    "import urllib\n",
    "import base64\n",
    "import json\n",
    "import requests\n",
    "\n",
    "#filename:图片名（本地存储包括路径）,plantnum展示的数量\n",
    "def general(filename,plantnum):\n",
    "    request_url = \"https://aip.baidubce.com/rest/2.0/image-classify/v2/advanced_general\"\n",
    "    \n",
    "    # 二进制方式打开图片文件\n",
    "    f = open('G:\\\\API\\\\岳麓书院01.jpg', 'rb')\n",
    "    img = base64.b64encode(f.read())\n",
    "    \n",
    "    params = dict()\n",
    "    params['image'] = img\n",
    "    params['baike_num'] = plantnum\n",
    "    params = urllib.parse.urlencode(params).encode(\"utf-8\")\n",
    "    #params = json.dumps(params).encode('utf-8')\n",
    "    \n",
    "    \n",
    "    request_url = request_url + \"?access_token=\" + access_token\n",
    "    request = urllib.request.Request(url=request_url, data=params)\n",
    "    request.add_header('Content-Type', 'application/x-www-form-urlencoded')\n",
    "    response = urllib.request.urlopen(request)\n",
    "    content = response.read()\n",
    "    if content:\n",
    "        #print(content)\n",
    "        content=content.decode('utf-8')\n",
    "        #print(content)\n",
    "        data = json.loads(content)\n",
    "        result=data['result']\n",
    "        \n",
    "        nums=min(plantnum,len(result))\n",
    "        \n",
    "        for i in range(0,nums):\n",
    "            item=result[i]\n",
    "            print ('名称:',item['keyword'])\n",
    "            print ('可能性:',item['score'])\n",
    "            baike_info=item['baike_info']\n",
    "            print ('百科描述:',baike_info['description'])\n",
    "            print ('百科链接:',baike_info['baike_url'])\n",
    "            print ('百科图片:',baike_info['image_url'])\n",
    "        \n",
    "    \n",
    "general('G:\\\\API\\\\岳麓书院01.jpg',1)"
   ]
  },
  {
   "cell_type": "markdown",
   "metadata": {},
   "source": [
    "# 关于手写文本识别API调用"
   ]
  },
  {
   "cell_type": "code",
   "execution_count": 38,
   "metadata": {},
   "outputs": [
    {
     "name": "stdout",
     "output_type": "stream",
     "text": [
      "{'log_id': 3942581198124530769, 'words_result_num': 4, 'words_result': [{'location': {'width': 2733, 'top': 15, 'left': 576, 'height': 661}, 'words': '窗间梅熟落蒂'}, {'location': {'width': 2792, 'top': 659, 'left': 578, 'height': 717}, 'words': '墙下笋成出林'}, {'location': {'width': 2981, 'top': 1179, 'left': 423, 'height': 1026}, 'words': '连雨不知春去'}, {'location': {'width': 2956, 'top': 1800, 'left': 524, 'height': 1145}, 'words': '-晴方觉夏深'}]}\n"
     ]
    }
   ],
   "source": [
    "# encoding:utf-8\n",
    "\n",
    "import requests\n",
    "import base64\n",
    "\n",
    "'''\n",
    "手写文字识别\n",
    "'''\n",
    "\n",
    "request_url = \"https://aip.baidubce.com/rest/2.0/ocr/v1/handwriting\"\n",
    "# 二进制方式打开图片文件\n",
    "f = open('G:\\\\API\\\\文本识别01.jpg', 'rb')\n",
    "img = base64.b64encode(f.read())\n",
    "\n",
    "params = {\"image\":img}\n",
    "access_token = '24.47e209f29e546b91fd84b47fa5c93265.2592000.1597559100.282335-21404324'\n",
    "request_url = request_url + \"?access_token=\" + access_token\n",
    "headers = {'content-type': 'application/x-www-form-urlencoded'}\n",
    "response = requests.post(request_url, data=params, headers=headers)\n",
    "if response:\n",
    "    print (response.json())"
   ]
  },
  {
   "cell_type": "code",
   "execution_count": 35,
   "metadata": {},
   "outputs": [
    {
     "name": "stdout",
     "output_type": "stream",
     "text": [
      "{'refresh_token': '25.a1300bf7aae270db3c01883023fe4bc7.315360000.1910327100.282335-21404324', 'expires_in': 2592000, 'session_key': '9mzdDxNrfoIushGSQJtT39MLH9D2JvOOjBS+Be7G0fVDOmm5IEDhPSpTNM+PPneXuFIuRi35qcJp8qJfe2T2OM9meb9gvQ==', 'access_token': '24.47e209f29e546b91fd84b47fa5c93265.2592000.1597559100.282335-21404324', 'scope': 'public vis-ocr_ocr brain_ocr_scope brain_ocr_general brain_ocr_general_basic vis-ocr_business_license brain_ocr_webimage brain_all_scope brain_ocr_idcard brain_ocr_driving_license brain_ocr_vehicle_license vis-ocr_plate_number brain_solution brain_ocr_plate_number brain_ocr_accurate brain_ocr_accurate_basic brain_ocr_receipt brain_ocr_business_license brain_solution_iocr brain_qrcode brain_ocr_handwriting brain_ocr_passport brain_ocr_vat_invoice brain_numbers brain_ocr_business_card brain_ocr_train_ticket brain_ocr_taxi_receipt vis-ocr_household_register vis-ocr_vis-classify_birth_certificate vis-ocr_台湾通行证 vis-ocr_港澳通行证 vis-ocr_机动车购车发票识别 vis-ocr_机动车检验合格证识别 vis-ocr_车辆vin码识别 vis-ocr_定额发票识别 vis-ocr_保单识别 vis-ocr_行程单识别 brain_ocr_vin brain_ocr_quota_invoice brain_ocr_birth_certificate brain_ocr_household_register brain_ocr_HK_Macau_pass brain_ocr_taiwan_pass brain_ocr_vehicle_invoice brain_ocr_vehicle_certificate brain_ocr_air_ticket brain_ocr_insurance_doc brain_formula brain_ocr_webimage_loc wise_adapt lebo_resource_base lightservice_public hetu_basic lightcms_map_poi kaidian_kaidian ApsMisTest_Test权限 vis-classify_flower lpq_开放 cop_helloScope ApsMis_fangdi_permission smartapp_snsapi_base iop_autocar oauth_tp_app smartapp_smart_game_openapi oauth_sessionkey smartapp_swanid_verify smartapp_opensource_openapi smartapp_opensource_recapi fake_face_detect_开放Scope vis-ocr_虚拟人物助理 idl-video_虚拟人物助理', 'session_secret': '09a932f885f3bdbcbc1486b4f8cc8d32'}\n"
     ]
    }
   ],
   "source": [
    "# encoding:utf-8\n",
    "import requests \n",
    "\n",
    "# client_id 为官网获取的AK， client_secret 为官网获取的SK\n",
    "host = 'https://aip.baidubce.com/oauth/2.0/token?grant_type=client_credentials&client_id=IPBgIKvgpbrnhWm3U6Rk0i00&client_secret=2UbuVOn2dj7yC4jMZSDQSzh0OWGmkUZm'\n",
    "response = requests.get(host)\n",
    "if response:\n",
    "    print(response.json())"
   ]
  },
  {
   "cell_type": "code",
   "execution_count": null,
   "metadata": {},
   "outputs": [],
   "source": []
  }
 ],
 "metadata": {
  "kernelspec": {
   "display_name": "Python 3",
   "language": "python",
   "name": "python3"
  },
  "language_info": {
   "codemirror_mode": {
    "name": "ipython",
    "version": 3
   },
   "file_extension": ".py",
   "mimetype": "text/x-python",
   "name": "python",
   "nbconvert_exporter": "python",
   "pygments_lexer": "ipython3",
   "version": "3.7.3"
  }
 },
 "nbformat": 4,
 "nbformat_minor": 4
}
